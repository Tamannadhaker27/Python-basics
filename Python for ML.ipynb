{
 "cells": [
  {
   "cell_type": "markdown",
   "id": "d3bae8a1-1273-40ee-b1d0-dcdfa0517d69",
   "metadata": {},
   "source": [
    "### Python Revision"
   ]
  },
  {
   "cell_type": "code",
   "execution_count": 97,
   "id": "abcc23fe-722a-4d00-b20f-884e58f83a31",
   "metadata": {},
   "outputs": [
    {
     "data": {
      "text/plain": [
       "'Hello this is my string slicing trial'"
      ]
     },
     "execution_count": 97,
     "metadata": {},
     "output_type": "execute_result"
    }
   ],
   "source": [
    "a=\"Hello this is my string slicing trial\"\n",
    "a"
   ]
  },
  {
   "cell_type": "code",
   "execution_count": 98,
   "id": "7b85acc0-2b28-49e3-93d4-952571ea36f7",
   "metadata": {},
   "outputs": [
    {
     "data": {
      "text/plain": [
       "'Hello this is my string sli'"
      ]
     },
     "execution_count": 98,
     "metadata": {},
     "output_type": "execute_result"
    }
   ],
   "source": [
    "a[:-10]"
   ]
  },
  {
   "cell_type": "markdown",
   "id": "47de883d-3aa9-4e89-a47d-42bcd2b712cf",
   "metadata": {},
   "source": [
    "### Arithmetic Operations in Python\n",
    "addition +\n",
    "subtraction -\n",
    "multiplication *\n",
    "float division /-------includes decimal part\n",
    "integer division //-------discard the decimal part\n",
    "modulo %-------gives remainder\n",
    "power **------^"
   ]
  },
  {
   "cell_type": "code",
   "execution_count": 99,
   "id": "855cefe3-1e88-4b6f-a706-eafa996e02e6",
   "metadata": {},
   "outputs": [
    {
     "data": {
      "text/plain": [
       "'cing t'"
      ]
     },
     "execution_count": 99,
     "metadata": {},
     "output_type": "execute_result"
    }
   ],
   "source": [
    "a[-10:-4]"
   ]
  },
  {
   "cell_type": "code",
   "execution_count": 100,
   "id": "a709ab25-3241-4b7f-8016-d94057c198af",
   "metadata": {},
   "outputs": [
    {
     "data": {
      "text/plain": [
       "'HELLO THIS IS MY STRING SLICING TRIAL'"
      ]
     },
     "execution_count": 100,
     "metadata": {},
     "output_type": "execute_result"
    }
   ],
   "source": [
    "b=a.upper()\n",
    "b"
   ]
  },
  {
   "cell_type": "code",
   "execution_count": 101,
   "id": "38fdbc39-d1cb-4f42-ac92-75f8d058c284",
   "metadata": {},
   "outputs": [
    {
     "data": {
      "text/plain": [
       "'Hello This Is My String Slicing Trial'"
      ]
     },
     "execution_count": 101,
     "metadata": {},
     "output_type": "execute_result"
    }
   ],
   "source": [
    "a.title()"
   ]
  },
  {
   "cell_type": "code",
   "execution_count": 19,
   "id": "42378ee7-3256-4053-b0b2-a8488c269153",
   "metadata": {},
   "outputs": [
    {
     "data": {
      "text/plain": [
       "'Tamanna  '"
      ]
     },
     "execution_count": 19,
     "metadata": {},
     "output_type": "execute_result"
    }
   ],
   "source": [
    "c=\"Tamanna  \"\n",
    "c"
   ]
  },
  {
   "cell_type": "code",
   "execution_count": 20,
   "id": "3d9e3d22-6d15-4184-b436-a8dffa0106f0",
   "metadata": {},
   "outputs": [
    {
     "data": {
      "text/plain": [
       "'Tamanna'"
      ]
     },
     "execution_count": 20,
     "metadata": {},
     "output_type": "execute_result"
    }
   ],
   "source": [
    "c.strip()"
   ]
  },
  {
   "cell_type": "code",
   "execution_count": 21,
   "id": "c56d448a-c841-4c21-9dff-5be7d842ff37",
   "metadata": {},
   "outputs": [
    {
     "data": {
      "text/plain": [
       "'Hellothisismystringslicingtrial'"
      ]
     },
     "execution_count": 21,
     "metadata": {},
     "output_type": "execute_result"
    }
   ],
   "source": [
    "a.replace(\" \",\"\")"
   ]
  },
  {
   "cell_type": "code",
   "execution_count": 24,
   "id": "25cbb80d-941d-4e3b-b55c-afb53a7739cd",
   "metadata": {},
   "outputs": [
    {
     "data": {
      "text/plain": [
       "'My ctc is 15'"
      ]
     },
     "execution_count": 24,
     "metadata": {},
     "output_type": "execute_result"
    }
   ],
   "source": [
    "ctc=15\n",
    "text=\"My ctc is \"\n",
    "text+ str(ctc)"
   ]
  },
  {
   "cell_type": "code",
   "execution_count": 27,
   "id": "354582ec-cd30-43a9-9b5b-1620378eb482",
   "metadata": {},
   "outputs": [
    {
     "data": {
      "text/plain": [
       "'My ctc is 15 lpa and in hand is 1.25 per month'"
      ]
     },
     "execution_count": 27,
     "metadata": {},
     "output_type": "execute_result"
    }
   ],
   "source": [
    "text1=\"My ctc is {} lpa and in hand is {} per month\".format(ctc,ctc/12)\n",
    "text1"
   ]
  },
  {
   "cell_type": "markdown",
   "id": "30e9cc20-9329-43fa-aaca-7302c3dc22bf",
   "metadata": {},
   "source": [
    "List \n",
    "-> represented by--[]\n",
    "-> ordered items\n",
    "-> mutable\n",
    "-> allows duplicate values\n",
    "1. type()\n",
    "2. =  //assignment\n",
    "3. len()\n",
    "4. append() or +\n",
    "5. extend()\n",
    "6. remove(element)----- for known value from the list\n",
    "7. pop(index)----- for unknown value\n",
    "8. sort()----for reverse we use----sort(reverse=True) //string chracters come first alphabetical order wise in sort()"
   ]
  },
  {
   "cell_type": "code",
   "execution_count": 38,
   "id": "000944a1-8a64-4295-8460-b95b68f5a4c6",
   "metadata": {},
   "outputs": [
    {
     "data": {
      "text/plain": [
       "[3, 2, True, False, 14]"
      ]
     },
     "execution_count": 38,
     "metadata": {},
     "output_type": "execute_result"
    }
   ],
   "source": [
    "a=[3, 2,True,False,14,]\n",
    "a"
   ]
  },
  {
   "cell_type": "code",
   "execution_count": 39,
   "id": "9a89d82b-9515-424e-89ce-34420eee5f0e",
   "metadata": {},
   "outputs": [
    {
     "data": {
      "text/plain": [
       "[False, True, 2, 3, 14]"
      ]
     },
     "execution_count": 39,
     "metadata": {},
     "output_type": "execute_result"
    }
   ],
   "source": [
    "a.sort()\n",
    "a"
   ]
  },
  {
   "cell_type": "code",
   "execution_count": 33,
   "id": "36a40632-bd5b-443a-bd2f-8346a043142c",
   "metadata": {},
   "outputs": [
    {
     "data": {
      "text/plain": [
       "[14, 3, 2, True, False]"
      ]
     },
     "execution_count": 33,
     "metadata": {},
     "output_type": "execute_result"
    }
   ],
   "source": [
    "a.sort(reverse=True)\n",
    "a"
   ]
  },
  {
   "cell_type": "markdown",
   "id": "e3cfa1ee-6c2a-4ab4-8f27-24f78288dc38",
   "metadata": {},
   "source": [
    "Tuple\n",
    "-> represented by--()\n",
    "-> ordered items\n",
    "-> immutable\n",
    "-> allows duplicate values\n",
    "1. type()\n",
    "2. len()\n",
    "3. can be converted to list by using list() and various functions of list can then be performed for mutable uses\n",
    "4. arithmetic operations on tuples---+------//adds 2 tuples-----*------//increases the occurence of a tuple"
   ]
  },
  {
   "cell_type": "code",
   "execution_count": 41,
   "id": "d175085f-ffe8-4b38-9d46-76a7afd8426c",
   "metadata": {},
   "outputs": [
    {
     "data": {
      "text/plain": [
       "4"
      ]
     },
     "execution_count": 41,
     "metadata": {},
     "output_type": "execute_result"
    }
   ],
   "source": [
    "a=(1,4,True,12)\n",
    "len(a)"
   ]
  },
  {
   "cell_type": "code",
   "execution_count": 45,
   "id": "0e0817fb-71e8-45c4-bae8-0d11a7233e76",
   "metadata": {},
   "outputs": [
    {
     "data": {
      "text/plain": [
       "(1, 4, True, 12, 2, 3, False)"
      ]
     },
     "execution_count": 45,
     "metadata": {},
     "output_type": "execute_result"
    }
   ],
   "source": [
    "b=(2,3,False)\n",
    "a+b"
   ]
  },
  {
   "cell_type": "code",
   "execution_count": 47,
   "id": "c37a1bd0-ad26-4e86-b239-8cc743d07ea7",
   "metadata": {},
   "outputs": [
    {
     "data": {
      "text/plain": [
       "(2, 3, False, 2, 3, False, 2, 3, False)"
      ]
     },
     "execution_count": 47,
     "metadata": {},
     "output_type": "execute_result"
    }
   ],
   "source": [
    "b*3"
   ]
  },
  {
   "cell_type": "markdown",
   "id": "9f5d500c-b778-4387-ac12-2f610b8765c8",
   "metadata": {},
   "source": [
    "Set\n",
    "-> represented by--{}\n",
    "-> immutable----add and remove is allowed by changing values is not allowed\n",
    "-> unordered----cannot be accessed using index\n",
    "-> does not allow duplicate values\n",
    "1. type()\n",
    "2. len()\n",
    "3. remove()\n",
    "4. add()\n",
    "5. update()----updates values of one set into another and if similar values occur, it removes the duplicates\n",
    "6. intersection()----to find common values from 2 sets\n",
    "7. symmetric_difference()------uncommon values from 2 sets\n",
    "8. a-b removes all the values of b from a if present and gives the a set-----can also return an empty set if a has no other value left\n",
    "9. can be converted to list by using list() and various functions of list can then be performed for mutable uses"
   ]
  },
  {
   "cell_type": "code",
   "execution_count": 48,
   "id": "6bff26d8-d3aa-4a88-b80e-c4af7e38e856",
   "metadata": {},
   "outputs": [
    {
     "data": {
      "text/plain": [
       "{1, 2, 3, 'apple', 'cherry'}"
      ]
     },
     "execution_count": 48,
     "metadata": {},
     "output_type": "execute_result"
    }
   ],
   "source": [
    "a={1, 2, 3, \"apple\",\"cherry\"}\n",
    "a"
   ]
  },
  {
   "cell_type": "code",
   "execution_count": 49,
   "id": "921df87b-2512-4c19-a945-e576f1a015a5",
   "metadata": {},
   "outputs": [
    {
     "data": {
      "text/plain": [
       "{1, 12, 2, 3, 'apple', 'cherry'}"
      ]
     },
     "execution_count": 49,
     "metadata": {},
     "output_type": "execute_result"
    }
   ],
   "source": [
    "a.add(12)\n",
    "a"
   ]
  },
  {
   "cell_type": "code",
   "execution_count": 50,
   "id": "e7fcf2ba-5dba-4108-b4dd-0aaae46b1126",
   "metadata": {},
   "outputs": [
    {
     "data": {
      "text/plain": [
       "{12, 'apple', 'mango'}"
      ]
     },
     "execution_count": 50,
     "metadata": {},
     "output_type": "execute_result"
    }
   ],
   "source": [
    "b={\"apple\", \"mango\", 12}\n",
    "b"
   ]
  },
  {
   "cell_type": "code",
   "execution_count": 52,
   "id": "23c9694b-b3fa-4d02-9c0c-ab6cccdf095c",
   "metadata": {},
   "outputs": [
    {
     "data": {
      "text/plain": [
       "{1, 12, 2, 3, 'apple', 'cherry', 'mango'}"
      ]
     },
     "execution_count": 52,
     "metadata": {},
     "output_type": "execute_result"
    }
   ],
   "source": [
    "a.update(b)\n",
    "a"
   ]
  },
  {
   "cell_type": "code",
   "execution_count": 56,
   "id": "b664bf82-e904-41f5-91c6-556d847923b7",
   "metadata": {},
   "outputs": [
    {
     "data": {
      "text/plain": [
       "[1, 2, 3, 'mango', 'cherry', 12, 'apple']"
      ]
     },
     "execution_count": 56,
     "metadata": {},
     "output_type": "execute_result"
    }
   ],
   "source": [
    "c=list(a)\n",
    "c"
   ]
  },
  {
   "cell_type": "markdown",
   "id": "c2cbff94-8dc8-469c-87a0-83c88fc3ffae",
   "metadata": {},
   "source": [
    "Dictionary\n",
    "-> represented by--{}\n",
    "-> immutable\n",
    "-> stores data in key and value manner-----{\"key\":\"value\"}\n",
    "-> ordered datatype----access using key-----a[\"key\"]\n",
    "-> do not allow duplicates for key\n",
    "1. type()\n",
    "2. = assigns a different value for the key\n",
    "3. keys()--------gets all the keys of the dictionary\n",
    "4. values()--------gets all the values of the dictionary\n",
    "5. pop(key)-----pops the value for that particular key, can also pass a parameter like pop(key,0), if the key is not found it returns 0\n",
    "6. popitem()------last added item will be removed\n",
    "7. update()---add a new key and value-----can also update a dictionary inside dictionary by a.update({'b':b})\n",
    "8. copy()----for copying the dictionary"
   ]
  },
  {
   "cell_type": "code",
   "execution_count": 76,
   "id": "5d23b884-6107-490a-adaa-24ebb6a51775",
   "metadata": {},
   "outputs": [
    {
     "data": {
      "text/plain": [
       "{'one': 1, 'two': 2, 'three': 3, 'four': 1}"
      ]
     },
     "execution_count": 76,
     "metadata": {},
     "output_type": "execute_result"
    }
   ],
   "source": [
    "a={'one':1,'two':2,'three':3,'four':1}\n",
    "a"
   ]
  },
  {
   "cell_type": "code",
   "execution_count": 77,
   "id": "d20fbc60-c488-4f24-aa26-505c9ed373a2",
   "metadata": {},
   "outputs": [
    {
     "data": {
      "text/plain": [
       "1"
      ]
     },
     "execution_count": 77,
     "metadata": {},
     "output_type": "execute_result"
    }
   ],
   "source": [
    "a['four']"
   ]
  },
  {
   "cell_type": "code",
   "execution_count": 78,
   "id": "8d4ce8b4-03a6-4e8b-8227-0bf2a468c1d6",
   "metadata": {},
   "outputs": [
    {
     "data": {
      "text/plain": [
       "dict_values([1, 2, 3, 1])"
      ]
     },
     "execution_count": 78,
     "metadata": {},
     "output_type": "execute_result"
    }
   ],
   "source": [
    "a.values()"
   ]
  },
  {
   "cell_type": "code",
   "execution_count": 79,
   "id": "6a432381-90a9-4ab9-a6a2-b3e65daef34f",
   "metadata": {},
   "outputs": [
    {
     "data": {
      "text/plain": [
       "{'five': 5, 'six': 6}"
      ]
     },
     "execution_count": 79,
     "metadata": {},
     "output_type": "execute_result"
    }
   ],
   "source": [
    "b={'five':5,'six':6}\n",
    "b"
   ]
  },
  {
   "cell_type": "code",
   "execution_count": 80,
   "id": "8f8b7bc4-fa39-4897-ba98-8a5e6864d948",
   "metadata": {},
   "outputs": [],
   "source": [
    "a.update({'b':b})"
   ]
  },
  {
   "cell_type": "code",
   "execution_count": 81,
   "id": "013c8a48-f7ce-4d94-a201-f352ebab4de3",
   "metadata": {},
   "outputs": [
    {
     "data": {
      "text/plain": [
       "{'one': 1, 'two': 2, 'three': 3, 'four': 1, 'b': {'five': 5, 'six': 6}}"
      ]
     },
     "execution_count": 81,
     "metadata": {},
     "output_type": "execute_result"
    }
   ],
   "source": [
    "a"
   ]
  },
  {
   "cell_type": "code",
   "execution_count": 82,
   "id": "6bfef4e1-d0ed-4d0b-a51c-2eeda519db68",
   "metadata": {},
   "outputs": [
    {
     "data": {
      "text/plain": [
       "{'five': 5, 'six': 6}"
      ]
     },
     "execution_count": 82,
     "metadata": {},
     "output_type": "execute_result"
    }
   ],
   "source": [
    "a['b']"
   ]
  },
  {
   "cell_type": "markdown",
   "id": "333cfbed-d6d1-4f56-afc8-ea9de4fc6702",
   "metadata": {},
   "source": [
    "### if elif and else"
   ]
  },
  {
   "cell_type": "code",
   "execution_count": 88,
   "id": "36608ac5-9941-4333-a1c2-a7eae5048f03",
   "metadata": {},
   "outputs": [
    {
     "name": "stdout",
     "output_type": "stream",
     "text": [
      "a is a medium number\n"
     ]
    }
   ],
   "source": [
    "a=12\n",
    "if a<12:\n",
    "    print('a is a small number')\n",
    "elif (a>=12) & (a<20):\n",
    "    print('a is a medium number')\n",
    "else:\n",
    "    print('a is a large number')"
   ]
  },
  {
   "cell_type": "markdown",
   "id": "e0d6b61f-4e15-4713-93e4-61e28c928674",
   "metadata": {},
   "source": [
    "### While loop\n",
    "#### Till the while loop is true then implement the code inside the loop once the loop if false then exit the loop\n",
    "#### break------exits the loop\n",
    "#### continue-----skips the next lines of code and again go to the while loop"
   ]
  },
  {
   "cell_type": "code",
   "execution_count": 92,
   "id": "6c3183e7-025f-4585-9a3b-fc01d051638b",
   "metadata": {},
   "outputs": [
    {
     "name": "stdout",
     "output_type": "stream",
     "text": [
      "6\n",
      "5\n",
      "4\n",
      "3\n"
     ]
    }
   ],
   "source": [
    "a=6\n",
    "while(a>0):\n",
    "    print(a)\n",
    "    a=a-1\n",
    "    if(a<3):\n",
    "        break"
   ]
  },
  {
   "cell_type": "markdown",
   "id": "629b6e36-b169-4732-b91d-9ed925f1329f",
   "metadata": {},
   "source": [
    "### For loop"
   ]
  },
  {
   "cell_type": "code",
   "execution_count": 1,
   "id": "ba422476-f76a-480d-8223-5b12ede129e9",
   "metadata": {},
   "outputs": [
    {
     "name": "stdout",
     "output_type": "stream",
     "text": [
      "Apple\n",
      "Banana\n",
      "Cherry\n"
     ]
    }
   ],
   "source": [
    "fruits = [\"Apple\", \"Banana\", \"Cherry\"]  \n",
    "\n",
    "for fruit in fruits:  \n",
    "    print(fruit)"
   ]
  },
  {
   "cell_type": "code",
   "execution_count": 1,
   "id": "355f59a2-d2c0-4d1c-a41d-8221dbdd72be",
   "metadata": {},
   "outputs": [
    {
     "name": "stdout",
     "output_type": "stream",
     "text": [
      "Apple\n",
      "Banana\n",
      "Cherry\n"
     ]
    }
   ],
   "source": [
    "for n in range(1, 6):  \n",
    "    if number == 3:  \n",
    "        break  # Stop the loop when number is 3\n",
    "    print(number)\n"
   ]
  },
  {
   "cell_type": "code",
   "execution_count": 1,
   "id": "01bc8118-0898-4098-b2f8-3b44f76aca16",
   "metadata": {},
   "outputs": [
    {
     "name": "stdout",
     "output_type": "stream",
     "text": [
      "Apple\n",
      "Banana\n",
      "Cherry\n"
     ]
    }
   ],
   "source": [
    "fruits = [\"Apple\", \"Banana\", \"Cherry\"]  \n",
    "\n",
    "for fruit in fruits:  \n",
    "    print(fruit)"
   ]
  },
  {
   "cell_type": "markdown",
   "id": "ef132bb5-bb4d-41d8-ae6f-c14abd9f9b8e",
   "metadata": {},
   "source": [
    "### Functions\n",
    "#### def function_name(parameter):---------------takes one parameter\n",
    "#### def function_name(para1, para2):---------------takes 2 parameter\n",
    "#### def function_name(*parameter):---------------takes any no. of parameters used when we dont know how many to use\n",
    "#### def function_name(**parameter):---------------takes keys and values as input for a dictionary"
   ]
  },
  {
   "cell_type": "code",
   "execution_count": 93,
   "id": "3a35fd5a-57be-42f6-82e1-d22288599e27",
   "metadata": {},
   "outputs": [
    {
     "name": "stdout",
     "output_type": "stream",
     "text": [
      "{'name': 'Alice', 'age': 25, 'city': 'New York'}\n"
     ]
    }
   ],
   "source": [
    "def print_info(**para):\n",
    "        print(para)\n",
    "print_info(name=\"Alice\", age=25, city=\"New York\")\n"
   ]
  },
  {
   "cell_type": "code",
   "execution_count": 95,
   "id": "327ddfbf-7a98-4551-aa42-9b945d3cb3de",
   "metadata": {},
   "outputs": [
    {
     "name": "stdout",
     "output_type": "stream",
     "text": [
      "['MAXYEAR', 'MINYEAR', 'UTC', '__all__', '__builtins__', '__cached__', '__doc__', '__file__', '__loader__', '__name__', '__package__', '__spec__', 'date', 'datetime', 'datetime_CAPI', 'sys', 'time', 'timedelta', 'timezone', 'tzinfo']\n"
     ]
    }
   ],
   "source": [
    "import datetime\n",
    "import time\n",
    "print(dir(datetime))"
   ]
  },
  {
   "cell_type": "code",
   "execution_count": 96,
   "id": "b46c7b61-5f88-46d5-b4a2-f1a7c30c5be9",
   "metadata": {},
   "outputs": [
    {
     "data": {
      "text/plain": [
       "datetime.datetime(2025, 2, 19, 16, 50, 1, 945164)"
      ]
     },
     "execution_count": 96,
     "metadata": {},
     "output_type": "execute_result"
    }
   ],
   "source": [
    "datetime.datetime.now()"
   ]
  },
  {
   "cell_type": "code",
   "execution_count": null,
   "id": "ebdd91f4-ac1b-4050-bb95-ed486e9be7c3",
   "metadata": {},
   "outputs": [],
   "source": [
    "datetime.datetime.now()"
   ]
  },
  {
   "cell_type": "code",
   "execution_count": null,
   "id": "729ad7f3-e080-46b2-af73-b60ee11e228c",
   "metadata": {},
   "outputs": [],
   "source": [
    "from datetime import datetime, date, time"
   ]
  },
  {
   "cell_type": "code",
   "execution_count": null,
   "id": "e5bedc4a-b176-43b8-a333-c4420cff7da2",
   "metadata": {},
   "outputs": [],
   "source": []
  },
  {
   "cell_type": "code",
   "execution_count": null,
   "id": "b73d0238-7b9b-4b10-9956-2aa27cbb8f24",
   "metadata": {},
   "outputs": [],
   "source": []
  },
  {
   "cell_type": "code",
   "execution_count": null,
   "id": "ab401e00-2ddf-4ad0-bfa3-bd119ad28e94",
   "metadata": {},
   "outputs": [],
   "source": []
  },
  {
   "cell_type": "code",
   "execution_count": null,
   "id": "4cc2bcb2-6bfa-4055-9f2a-41edf8fc870d",
   "metadata": {},
   "outputs": [],
   "source": []
  },
  {
   "cell_type": "code",
   "execution_count": null,
   "id": "2993cb68-cf7b-463c-b076-c2238626e4e4",
   "metadata": {},
   "outputs": [],
   "source": []
  },
  {
   "cell_type": "code",
   "execution_count": null,
   "id": "6333db01-3844-4bab-8d09-2cbee152c5e3",
   "metadata": {},
   "outputs": [],
   "source": []
  }
 ],
 "metadata": {
  "kernelspec": {
   "display_name": "Python 3 (ipykernel)",
   "language": "python",
   "name": "python3"
  },
  "language_info": {
   "codemirror_mode": {
    "name": "ipython",
    "version": 3
   },
   "file_extension": ".py",
   "mimetype": "text/x-python",
   "name": "python",
   "nbconvert_exporter": "python",
   "pygments_lexer": "ipython3",
   "version": "3.11.7"
  }
 },
 "nbformat": 4,
 "nbformat_minor": 5
}
